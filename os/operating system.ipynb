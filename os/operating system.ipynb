{
 "cells":[
  {
   "cell_type":"markdown",
   "source":[
    "# Sheet"
   ],
   "attachments":{},
   "metadata":{
    "datalore":{
     "node_id":"Sheet",
     "type":"MD",
     "hide_input_from_viewers":false,
     "hide_output_from_viewers":false,
     "sheet_delimiter":true
    }
   }
  },
  {
   "cell_type":"markdown",
   "source":[
    "[计算机体系结构基础](https:\/\/foxsen.github.io\/archbase\/)\n",
    "\n",
    "[Making an OS (x86) Chapter 1 - CPU, Assembly, Booting](https:\/\/www.youtube.com\/watch?v=MwPjvJ9ulSc)\n",
    "\n",
    "[Write Your Own 64-bit Operating System Kernel #1 - Boot code and multiboot header](https:\/\/www.youtube.com\/watch?v=FkrpUaGThTQ)\n",
    "\n",
    "[【麻省理工学院】MIT 6.S081 操作系统工程 operating system engineering（中文字幕）](https:\/\/www.bilibili.com\/video\/BV1Dy4y1m7ZE\/)\n",
    "\n",
    "[MIT 6.S081](https:\/\/www.youtube.com\/playlist?list=PLTsf9UeqkReZHXWY9yJvTwLJWYYPcKEqK)"
   ],
   "attachments":{},
   "metadata":{
    "datalore":{
     "node_id":"9oRbM1QQlEEwGbcouUoE1D",
     "type":"MD",
     "hide_input_from_viewers":true,
     "hide_output_from_viewers":true
    }
   }
  },
  {
   "cell_type":"markdown",
   "source":[
    "[操作系统真相还原](https:\/\/zh.singlelogin.re\/book\/12340498\/478394\/%E6%93%8D%E4%BD%9C%E7%B3%BB%E7%BB%9F%E7%9C%9F%E8%B1%A1%E8%BF%98%E5%8E%9F.html)\n",
    "\n",
    "[计算机操作系统（慕课版）](https:\/\/zh.singlelogin.re\/book\/27874348\/f75301\/%E8%AE%A1%E7%AE%97%E6%9C%BA%E6%93%8D%E4%BD%9C%E7%B3%BB%E7%BB%9F%E6%85%95%E8%AF%BE%E7%89%88.html)"
   ],
   "attachments":{},
   "metadata":{
    "datalore":{
     "node_id":"4AKoc3MEWz7vQCcD5PFsba",
     "type":"MD",
     "hide_input_from_viewers":true,
     "hide_output_from_viewers":true
    }
   }
  },
  {
   "cell_type":"markdown",
   "source":[
    "# process"
   ],
   "attachments":{},
   "metadata":{
    "datalore":{
     "node_id":"process",
     "type":"MD",
     "hide_input_from_viewers":false,
     "hide_output_from_viewers":false,
     "sheet_delimiter":true
    }
   }
  },
  {
   "cell_type":"code",
   "source":[
    "\"\"\"\n",
    "进程调度\n",
    "死锁\n",
    "银行家算法\n",
    "Banker's Algorithm\n",
    "\"\"\"\n",
    "def find_safe_sequence(available, max, allocation, need):\n",
    "    work = available[:]\n",
    "    finish = [False] * len(need)\n",
    "    safe_sequence = []\n",
    "\n",
    "    while len(safe_sequence) < len(need):\n",
    "        for i, finished in enumerate(finish):\n",
    "            if not finished:\n",
    "                if all(need[i][j] <= work[j] for j in range(len(work))):\n",
    "                    for j in range(len(work)):\n",
    "                        work[j] += allocation[i][j]\n",
    "                    finish[i] = True\n",
    "                    safe_sequence.append(i)\n",
    "                    break\n",
    "        else:\n",
    "            # 如果没有找到可以执行的进程，说明系统不安全\n",
    "            return None\n",
    "    return safe_sequence\n",
    "\n",
    "def request_resources(process_id, request, available, allocation, need):\n",
    "    if all(request[i] <= need[process_id][i] for i in range(len(request))) and all(request[i] <= available[i] for i in range(len(request))):\n",
    "        # 试探性分配资源\n",
    "        for i in range(len(request)):\n",
    "            available[i] -= request[i]\n",
    "            allocation[process_id][i] += request[i]\n",
    "            need[process_id][i] -= request[i]\n",
    "\n",
    "        # 检查这次分配后是否安全\n",
    "        safe_sequence = find_safe_sequence(available, max, allocation, need)\n",
    "        if safe_sequence is not None:\n",
    "            # 如果安全，确认分配\n",
    "            print(f\"资源分配给P{process_id}后，系统是安全的。安全序列是: {safe_sequence}\")\n",
    "            return True\n",
    "        else:\n",
    "            # 如果不安全，回滚分配\n",
    "            for i in range(len(request)):\n",
    "                available[i] += request[i]\n",
    "                allocation[process_id][i] -= request[i]\n",
    "                need[process_id][i] += request[i]\n",
    "            print(f\"资源请求无法立即满足。P{process_id}的请求被拒绝。\")\n",
    "            return False\n",
    "    else:\n",
    "        print(f\"P{process_id}的资源请求超过了它的需求或可用资源。请求被拒绝。\")\n",
    "        return False\n",
    "\n",
    "# 可用资源\n",
    "available = [3, 3, 2]\n",
    "# 最大需求\n",
    "max = [\n",
    "    [7, 5, 3],\n",
    "    [3, 2, 2],\n",
    "    [9, 0, 2],\n",
    "    [2, 2, 2],\n",
    "    [4, 3, 3]\n",
    "]\n",
    "# 已分配资源\n",
    "allocation = [\n",
    "    [0, 1, 0],\n",
    "    [2, 0, 0],\n",
    "    [3, 0, 2],\n",
    "    [2, 1, 1],\n",
    "    [0, 0, 2]\n",
    "]\n",
    "# 还需要的资源\n",
    "need = [\n",
    "    [7, 4, 3],\n",
    "    [1, 2, 2],\n",
    "    [6, 0, 0],\n",
    "    [0, 1, 1],\n",
    "    [4, 3, 1]\n",
    "]\n",
    "\n",
    "# 测试请求资源\n",
    "process_id = 1\n",
    "request = [1, 0, 2]\n",
    "request_resources(process_id, request, available, allocation, need)"
   ],
   "execution_count":1,
   "outputs":[
    {
     "name":"stdout",
     "text":[
      "资源分配给P1后，系统是安全的。安全序列是: [1, 3, 0, 2, 4]\n"
     ],
     "output_type":"stream"
    },
    {
     "data":{
      "text\/plain":[
       "True"
      ]
     },
     "metadata":{},
     "output_type":"display_data"
    }
   ],
   "metadata":{
    "datalore":{
     "node_id":"GZQ77d9zwygFiBdTXNwkRR",
     "type":"CODE",
     "hide_input_from_viewers":true,
     "hide_output_from_viewers":true
    }
   }
  },
  {
   "cell_type":"code",
   "source":[
    "\"\"\"\n",
    "信号量\n",
    "进程互斥\n",
    "\n",
    "初始化（Initialization）：设置信号量的初始值。\n",
    "等待（Wait）或 P操作（Proberen，荷兰语“测试”）：如果信号量的值大于0，将其减1，然后继续执行；如果信号量的值为0，则进程被阻塞，直到信号量的值大于0。\n",
    "信号（Signal）或 V操作（Verhogen，荷兰语“提高”）：将信号量的值加1，如果有进程因为等待信号量而被阻塞，它们将被唤醒。\n",
    "\"\"\"\n",
    "import threading\n",
    "\n",
    "# 定义一个信号量\n",
    "semaphore = threading.Semaphore(1)  # 二进制信号量，初始值为1\n",
    "\n",
    "def critical_section():\n",
    "    with semaphore:\n",
    "        # 临界区代码，一次只允许一个线程进入\n",
    "        print(f\"Thread {threading.current_thread().name} entered the critical section.\")\n",
    "        # 模拟执行时间\n",
    "        threading.sleep(2)\n",
    "        print(f\"Thread {threading.current_thread().name} leaving the critical section.\")\n",
    "\n",
    "# 创建线程\n",
    "thread1 = threading.Thread(target=critical_section)\n",
    "thread2 = threading.Thread(target=critical_section)\n",
    "\n",
    "# 启动线程\n",
    "thread1.start()\n",
    "thread2.start()\n",
    "\n",
    "# 等待线程结束\n",
    "thread1.join()\n",
    "thread2.join()"
   ],
   "execution_count":null,
   "outputs":[],
   "metadata":{
    "datalore":{
     "node_id":"8SVCBmHDdkq7Q8tbH7IIKS",
     "type":"CODE",
     "hide_input_from_viewers":true,
     "hide_output_from_viewers":true
    }
   }
  },
  {
   "cell_type":"markdown",
   "source":[
    "# page"
   ],
   "attachments":{},
   "metadata":{
    "datalore":{
     "node_id":"page",
     "type":"MD",
     "hide_input_from_viewers":false,
     "hide_output_from_viewers":false,
     "sheet_delimiter":true
    }
   }
  },
  {
   "cell_type":"code",
   "source":[
    "\"\"\"\n",
    "先进先出（FIFO）算法：这是最简单的页面置换算法，它按照页面进入内存的顺序进行置换。最早进入内存的页面将最先被替换。FIFO算法实现简单，但可能会淘汰经常访问的页面，导致性能不佳\n",
    "。\n",
    "\n",
    "最近最久未使用（LRU）算法：LRU算法选择最近一段时间内最久没有被访问过的页面进行替换。这种算法基于时间局部性原理，即近期被访问的页面很可能在未来也会被访问。LRU算法性能较好，但实现起来相对复杂，需要记录每个页面的访问历史\n",
    "。\n",
    "\n",
    "最佳置换算法（OPT）：这是一种理论上的算法，它选择未来最长时间内不会被访问的页面进行置换。由于需要预知未来的页面访问情况，OPT算法在实际中无法实现，但可以作为衡量其他算法性能的标准\n",
    "。\n",
    "\n",
    "时钟（CLOCK）算法：CLOCK算法是LRU算法的一种近似实现，它通过一个循环链表来模拟时钟的工作。每个页面都有一个访问位，当页面被访问时，访问位被设置为1。在选择置换页面时，算法会循环检查链表中的页面，如果访问位为0，则选择该页面进行置换。如果为1，则将其置为0并继续检查下一个页面\n",
    "。\n",
    "\n",
    "最近未使用（NRU）算法：NRU算法是FIFO算法的改进，它通过跟踪页面的使用情况来决定页面是否应该被置换。NRU算法将页面分为几个类别，并优先置换那些既不经常被访问也没有被修改的页面\n",
    "。\n",
    "\n",
    "随机置换算法：随机算法简单地从内存中的页面中随机选择一个进行置换。这种方法简单但性能不稳定，因为它不考虑页面的使用历史或访问模式\n",
    "。\n",
    "\n",
    "最少使用（LFU）算法：LFU算法置换那些访问次数最少的页面。这种方法考虑了页面的访问频率，但可能不会很好地反映时间局部性原理\n",
    "。\n",
    "\n",
    "工作集算法：工作集算法基于这样的思想：一个进程在短期内的内存访问模式与它在长期内的访问模式相似。该算法会保留一个进程的工作集（即它在一段时间内访问的所有页面），并置换那些不在工作集中的页面\n",
    "\n",
    "\"\"\"\n",
    "class LRUCache:\n",
    "    def __init__(self, capacity: int):\n",
    "        self.capacity = capacity\n",
    "        self.cache = {}  # 存储页面和其访问时间的字典\n",
    "        self.access_time = 0  # 当前时间，用于模拟访问顺序\n",
    "\n",
    "    def get(self, key: int) -> int:\n",
    "        if key not in self.cache:\n",
    "            return -1  # 如果页面不在缓存中，返回-1\n",
    "        # 更新访问时间\n",
    "        self.access_time += 1\n",
    "        self.cache[key]['access_time'] = self.access_time\n",
    "        return self.cache[key]['value']\n",
    "\n",
    "    def put(self, key: int, value: int) -> None:\n",
    "        if key in self.cache:\n",
    "            # 更新已存在的页面的访问时间和值\n",
    "            self.access_time += 1\n",
    "            self.cache[key]['access_time'] = self.access_time\n",
    "            self.cache[key]['value'] = value\n",
    "        else:\n",
    "            if len(self.cache) >= self.capacity:\n",
    "                # 如果缓存已满，移除最久未使用的页面\n",
    "                self._remove_least_recently_used()\n",
    "            self.access_time += 1\n",
    "            # 添加新页面到缓存\n",
    "            self.cache[key] = {'access_time': self.access_time, 'value': value}\n",
    "\n",
    "    def _remove_least_recently_used(self) -> None:\n",
    "        # 移除访问时间最小的页面，即最久未使用的页面\n",
    "        least_recently_used_key = min(self.cache, key=lambda k: self.cache[k]['access_time'])\n",
    "        del self.cache[least_recently_used_key]\n",
    "\n",
    "# 示例使用\n",
    "lru_cache = LRUCache(2)\n",
    "lru_cache.put(1, 1)  # 缓存是 {1=1}\n",
    "lru_cache.put(2, 2)  # 缓存是 {1=1, 2=2}\n",
    "print(lru_cache.get(1))  # 返回 1，缓存是 {2=2, 1=1}\n",
    "lru_cache.put(3, 3)  # 移除最久未使用的页面 2，缓存是 {1=1, 3=3}\n",
    "print(lru_cache.get(2))  # 返回 -1（未找到）\n",
    "lru_cache.put(4, 4)  # 移除最久未使用的页面 1，缓存是 {3=3, 4=4}\n",
    "print(lru_cache.get(1))  # 返回 -1（未找到）\n",
    "print(lru_cache.get(3))  # 返回 3\n",
    "print(lru_cache.get(4))  # 返回 4"
   ],
   "execution_count":null,
   "outputs":[],
   "metadata":{
    "datalore":{
     "node_id":"SWzSXSjmrb7AK1oipjhk8x",
     "type":"CODE",
     "hide_input_from_viewers":true,
     "hide_output_from_viewers":true
    }
   }
  },
  {
   "cell_type":"markdown",
   "source":[
    "# I\/O"
   ],
   "attachments":{},
   "metadata":{
    "datalore":{
     "node_id":"I\/O",
     "type":"MD",
     "hide_input_from_viewers":false,
     "hide_output_from_viewers":false,
     "sheet_delimiter":true
    }
   }
  },
  {
   "cell_type":"code",
   "source":[
    "\"\"\"\n",
    "先来先服务（FCFS, First-Come, First-Served）：\n",
    "\n",
    "按照磁盘请求到达的顺序进行服务。\n",
    "简单易实现，但可能导致“饥饿”现象，即请求到达较晚的磁盘I\/O操作可能会等待很长时间。\n",
    "最短寻道时间优先（SSTF, Shortest Seek Time First）：\n",
    "\n",
    "选择当前磁头位置最近的磁盘请求。\n",
    "可以提供比FCFS更好的平均寻道时间，但可能导致“饥饿”现象。\n",
    "扫描（SCAN）：\n",
    "\n",
    "磁头从一个方向开始移动，直到达到最后一个请求，然后反转方向。\n",
    "可以减少寻道时间，但可能不是最优的，因为它不考虑磁盘请求的到达顺序。\n",
    "循环扫描（C-SCAN）：\n",
    "\n",
    "磁头在一个方向上移动，服务所有请求，到达最后一个请求后直接跳转到起始位置，而不是反向扫描。\n",
    "可以避免“饥饿”现象，因为每个请求都会被服务。\n",
    "最近最久未使用（NRU, Not Recently Used）：\n",
    "\n",
    "类似于LRU页面置换算法，选择最长时间未被访问的磁盘块进行调度。\n",
    "适用于某些特定场景，不如SCAN和C-SCAN常用。\n",
    "LOOK（C-LOOK）：\n",
    "\n",
    "一种改进的C-SCAN算法，磁头在到达请求的末端后，立即返回到起始位置，而不是等待。\n",
    "可以提高磁盘调度的效率。\n",
    "C-LOOK：\n",
    "\n",
    "与LOOK类似，但是磁头在完成一个方向上的请求后，会立即跳转到起始位置，而不是等待。\n",
    "公平磁盘调度（FDD, Fair Disk Scheduling）：\n",
    "\n",
    "为每个进程分配一个访问磁盘的时间段，确保所有进程公平地访问磁盘。\n",
    "可以避免某些进程长时间占用磁盘资源。\n",
    "跳跃扫描（SKIP SCAN）：\n",
    "\n",
    "将磁盘请求分成多个组，磁头在每个组内顺序服务请求，然后跳到下一个组。\n",
    "旨在减少寻道时间，同时考虑了磁盘请求的局部性。\n",
    "磁盘区域分组（Zoning）：\n",
    "\n",
    "将磁盘分割成多个区域，每个区域由一个特定的磁头处理。\n",
    "可以提高磁盘的并行处理能力。\n",
    "\"\"\"\n",
    "\n",
    "class ScanDiskScheduling:\n",
    "    def __init__(self, requests, head_start):\n",
    "        self.requests = sorted(requests)  # 磁盘请求列表，已排序\n",
    "        self.head_start = head_start  # 磁头起始位置\n",
    "        self.direction = 1  # 移动方向，1表示向右，-1表示向左\n",
    "\n",
    "    def scan(self):\n",
    "        service_order = []\n",
    "        current_position = self.head_start\n",
    "        while self.requests:\n",
    "            if self.requests[0] >= current_position:\n",
    "                service_order.append(self.requests.pop(0))\n",
    "                current_position = self.requests[0] if self.requests else current_position\n",
    "            else:\n",
    "                if self.requests[-1] < current_position:\n",
    "                    self.direction = -1\n",
    "                service_order.append(self.requests.pop())\n",
    "                current_position = self.requests[-1] if self.requests else current_position\n",
    "        return service_order\n",
    "\n",
    "# 示例使用\n",
    "requests = [98, 183, 37, 122, 14, 124, 65, 67]\n",
    "head_start = 37\n",
    "scan_scheduler = ScanDiskScheduling(requests, head_start)\n",
    "service_order = scan_scheduler.scan()\n",
    "print(\"服务顺序:\", service_order)"
   ],
   "execution_count":null,
   "outputs":[],
   "metadata":{
    "datalore":{
     "node_id":"kUUUw6ZBoiVR8HeCGi5eV7",
     "type":"CODE",
     "hide_input_from_viewers":true,
     "hide_output_from_viewers":true
    }
   }
  },
  {
   "cell_type":"markdown",
   "source":[
    "# file"
   ],
   "attachments":{},
   "metadata":{
    "datalore":{
     "node_id":"file",
     "type":"MD",
     "hide_input_from_viewers":false,
     "hide_output_from_viewers":false,
     "sheet_delimiter":true
    }
   }
  },
  {
   "cell_type":"code",
   "source":[],
   "execution_count":null,
   "outputs":[],
   "metadata":{
    "datalore":{
     "node_id":"9NVRXKw4nAMGjo8i8s5BCV",
     "type":"CODE",
     "hide_input_from_viewers":true,
     "hide_output_from_viewers":true
    }
   }
  },
  {
   "cell_type":"markdown",
   "source":[
    "# program"
   ],
   "attachments":{},
   "metadata":{
    "datalore":{
     "node_id":"program",
     "type":"MD",
     "hide_input_from_viewers":false,
     "hide_output_from_viewers":false,
     "sheet_delimiter":true
    }
   }
  },
  {
   "cell_type":"markdown",
   "source":[
    "## 状态机\n",
    "\n",
    "Stack Frame\n",
    "\n",
    "PC program counter\n",
    "\n",
    "二进制 程序\n",
    "\n",
    "= M 内存 + R 寄存器\n",
    "\n",
    "= 计算 + syscall\n"
   ],
   "attachments":{},
   "metadata":{
    "datalore":{
     "node_id":"kPUJOrDwgs9adiG0QwF9la",
     "type":"MD",
     "hide_input_from_viewers":true,
     "hide_output_from_viewers":true
    }
   }
  },
  {
   "cell_type":"markdown",
   "source":[
    "# thread"
   ],
   "attachments":{},
   "metadata":{
    "datalore":{
     "node_id":"thread",
     "type":"MD",
     "hide_input_from_viewers":false,
     "hide_output_from_viewers":false,
     "sheet_delimiter":true
    }
   }
  },
  {
   "cell_type":"code",
   "source":[],
   "execution_count":null,
   "outputs":[],
   "metadata":{
    "datalore":{
     "node_id":"iytmLtBc8jrJ72hdZqqANN",
     "type":"CODE",
     "hide_input_from_viewers":true,
     "hide_output_from_viewers":true
    }
   }
  }
 ],
 "metadata":{
  "kernelspec":{
   "display_name":"Python",
   "language":"python",
   "name":"python"
  },
  "datalore":{
   "computation_mode":"JUPYTER",
   "package_manager":"pip",
   "base_environment":"default",
   "packages":[],
   "report_row_ids":[],
   "report_tabs":[],
   "version":4
  }
 },
 "nbformat":4,
 "nbformat_minor":4
}