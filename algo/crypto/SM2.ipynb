{
 "cells": [
  {
   "cell_type": "code",
   "execution_count": null,
   "metadata": {},
   "outputs": [],
   "source": [
    "from gmssl import sm2,func\n",
    "\n",
    "# https://const.net.cn/tool/sm2/genkey/\n",
    "# 生成 SM2 密钥对\n",
    "def generate_keys():\n",
    "    pri_key = '6846F86B8F18CE91079D234644D8326C921B56EE88331C095C5579C6BC356F35'\n",
    "    pub_key = 'C857466E3E02BBDE8B8FFCA46A861786ADDB7213D303034B17A85039E9A2D3E9\\\n",
    "73EA74C32659980AAF82BFAAA338B639255E196D5791C7AF09F580F8D2674437'\n",
    "    return pub_key, pri_key\n",
    "\n",
    "# 使用私钥对数据进行签名\n",
    "def sign(private_key, data):\n",
    "    crypt_sm2 = sm2.CryptSM2(private_key=private_key.key())\n",
    "    signature = crmypt_sm2.sign(data)\n",
    "    return signature\n",
    "\n",
    "# 使用公钥验证签名\n",
    "def verify(public_key, signature, data):\n",
    "    crypt_sm2 = sm2.CryptSM2(public_key=public_key.encode())\n",
    "    return crypt_sm2.verify(signature, data)\n",
    "\n",
    "# 主函数\n",
    "def main():\n",
    "    # 生成公钥和私钥\n",
    "    public_key, private_key = generate_keys()\n",
    "    print(\"Public Key:\", public_key)\n",
    "\n",
    "    # 需要加密的数据\n",
    "    data = b\"Hello, World!\"\n",
    "    # 声明一个sm2对象\n",
    "    sm2_crypt = sm2.CryptSM2(public_key=public_key, private_key=private_key)\n",
    "    # 加密数据\n",
    "    encrypted_data = sm2_crypt.encrypt(data)\n",
    "    print(\"Encrypted Data (Base64):\", encrypted_data)\n",
    "\n",
    "    # 解密数据\n",
    "    decrypted_data = sm2_crypt.decrypt(encrypted_data)\n",
    "    print(\"Decrypted Data:\", decrypted_data.decode())\n",
    "\n",
    "    # 消息体\n",
    "    data = b\"111\"\n",
    "    # 随机16进制字符串\n",
    "    random_hex_str = func.random_hex(sm2_crypt.para_len)\n",
    "    # 签名\n",
    "    sign = sm2_crypt.sign(data, random_hex_str) #  16进制\n",
    "    # 校验\n",
    "    assert sm2_crypt.verify(sign, data) \n",
    "if __name__ == \"__main__\":\n",
    "    main()"
   ]
  }
 ],
 "metadata": {
  "language_info": {
   "name": "python"
  }
 },
 "nbformat": 4,
 "nbformat_minor": 2
}
