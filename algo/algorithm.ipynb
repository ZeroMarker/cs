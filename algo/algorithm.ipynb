{
 "cells":[
  {
   "cell_type":"markdown",
   "source":[
    "# Sheet"
   ],
   "attachments":{},
   "metadata":{
    "datalore":{
     "node_id":"Sheet",
     "type":"MD",
     "hide_input_from_viewers":false,
     "hide_output_from_viewers":false,
     "sheet_delimiter":true
    }
   }
  },
  {
   "cell_type":"code",
   "source":[
    "def hare_quota(total_votes, seats, vote_distribution):\n",
    "    \"\"\"\n",
    "    实现比例代表黑尔数额算法。\n",
    "    \n",
    "    :param total_votes: 总有效票数\n",
    "    :param seats: 议席数目\n",
    "    :param vote_distribution: 各名单获得的票数分布，字典形式，键为名单名称，值为票数\n",
    "    :return: 分配结果，字典形式，键为名单名称，值为获得的议席数\n",
    "    \"\"\"\n",
    "    # 计算黑尔数额\n",
    "    hare_quota = total_votes \/ seats\n",
    "    \n",
    "    # 计算每个名单的基础议席数和余数\n",
    "    seat_distribution = {}\n",
    "    remainders = []\n",
    "    for party, votes in vote_distribution.items():\n",
    "        base_seats = int(votes \/ hare_quota)\n",
    "        remainder = votes % hare_quota\n",
    "        seat_distribution[party] = base_seats\n",
    "        remainders.append((remainder, party))\n",
    "    \n",
    "    # 按余数排序，分配剩余议席\n",
    "    remainders.sort(reverse=True)\n",
    "    for _ in range(seats - len(seat_distribution)):\n",
    "        remainder, party = remainders.pop(0)\n",
    "        seat_distribution[party] += 1\n",
    "    \n",
    "    return seat_distribution\n",
    "\n",
    "# 示例数据\n",
    "total_votes = 10000\n",
    "seats = 10\n",
    "vote_distribution = {\n",
    "    '甲': 3100,\n",
    "    '乙': 6100,\n",
    "    '丙': 1230,\n",
    "    '丁': 1530,\n",
    "    '戊': 1650,\n",
    "    '己': 4670\n",
    "}\n",
    "\n",
    "# 执行算法\n",
    "result = hare_quota(total_votes, seats, vote_distribution)\n",
    "\n",
    "# 打印结果\n",
    "for party, seats in result.items():\n",
    "    print(f\"{party}: {seats}席\")"
   ],
   "execution_count":1,
   "outputs":[
    {
     "name":"stdout",
     "text":[
      "甲: 3席\n",
      "乙: 6席\n",
      "丙: 2席\n",
      "丁: 2席\n",
      "戊: 2席\n",
      "己: 5席\n"
     ],
     "output_type":"stream"
    }
   ],
   "metadata":{
    "datalore":{
     "node_id":"niB9tTflSOLTAwZr3qLA2X",
     "type":"CODE",
     "hide_input_from_viewers":true,
     "hide_output_from_viewers":true
    }
   }
  },
  {
   "cell_type":"code",
   "source":[
    "def sainte_lague(votes, seats):\n",
    "    \"\"\"\n",
    "    使用圣拉古法分配议席。\n",
    "    \n",
    "    参数:\n",
    "        votes (list[int]): 各政党的票数列表。\n",
    "        seats (int): 总议席数。\n",
    "    \n",
    "    返回:\n",
    "        list[int]: 各政党获得的议席数。\n",
    "    \"\"\"\n",
    "    # 初始化各政党的议席数和分母\n",
    "    allocations = [0] * len(votes)\n",
    "    divisors = [1] * len(votes)  # 初始分母为1\n",
    "\n",
    "    # 分配议席\n",
    "    for _ in range(seats):\n",
    "        # 计算当前每个政党的分值\n",
    "        scores = [votes[i] \/ divisors[i] for i in range(len(votes))]\n",
    "        \n",
    "        # 找到得分最高的政党并分配1个议席\n",
    "        max_index = scores.index(max(scores))\n",
    "        allocations[max_index] += 1\n",
    "        \n",
    "        # 更新该政党的分母\n",
    "        divisors[max_index] += 2  # 分母每次增加2（1, 3, 5, ...）\n",
    "\n",
    "    return allocations\n",
    "\n",
    "\n",
    "# 示例使用\n",
    "if __name__ == \"__main__\":\n",
    "    # 各政党的票数\n",
    "    votes = [10000, 6000, 4000]  \n",
    "    # 总议席数\n",
    "    total_seats = 10\n",
    "\n",
    "    # 计算议席分配\n",
    "    result = sainte_lague(votes, total_seats)\n",
    "\n",
    "    # 输出结果\n",
    "    print(\"各政党获得的议席数:\", result)"
   ],
   "execution_count":1,
   "outputs":[
    {
     "name":"stdout",
     "text":[
      "各政党获得的议席数: [5, 3, 2]\n"
     ],
     "output_type":"stream"
    }
   ],
   "metadata":{
    "datalore":{
     "node_id":"NxBIshBaG7F4Nf0AOXTHCe",
     "type":"CODE",
     "hide_input_from_viewers":true,
     "hide_output_from_viewers":true
    }
   }
  },
  {
   "cell_type":"markdown",
   "source":[
    "# Sheet 2"
   ],
   "attachments":{},
   "metadata":{
    "datalore":{
     "node_id":"Sheet 2",
     "type":"MD",
     "hide_input_from_viewers":false,
     "hide_output_from_viewers":false,
     "sheet_delimiter":true
    }
   }
  },
  {
   "cell_type":"markdown",
   "source":[
    "## 尾递归\n",
    "```c\n",
    "\/\/ leetcode #70\n",
    "#include <vector>\n",
    "class Solution {\n",
    "public:\n",
    "    int climbStairs(int n) {\n",
    "        return static_cast<int>(climbStairsHelper(1, 1, n));\n",
    "    }\n",
    "\n",
    "private:\n",
    "    long long climbStairsHelper(long long current, long long nextStep, int remaining) {\n",
    "        if (remaining == 0) {\n",
    "            return current;\n",
    "        }\n",
    "        return climbStairsHelper(nextStep, current + nextStep, remaining - 1);\n",
    "    }\n",
    "};\n",
    "```"
   ],
   "attachments":{},
   "metadata":{
    "datalore":{
     "node_id":"CXp3Sz9dZyOLHSJJ9XtVM5",
     "type":"MD",
     "hide_input_from_viewers":true,
     "hide_output_from_viewers":true
    }
   }
  },
  {
   "cell_type":"markdown",
   "source":[
    "# tree"
   ],
   "attachments":{},
   "metadata":{
    "datalore":{
     "node_id":"tree",
     "type":"MD",
     "hide_input_from_viewers":false,
     "hide_output_from_viewers":false,
     "sheet_delimiter":true
    }
   }
  },
  {
   "cell_type":"markdown",
   "source":[
    "[图解：什么是B-树、B+树、B*树](https:\/\/cloud.tencent.com\/developer\/article\/1691641)"
   ],
   "attachments":{},
   "metadata":{
    "datalore":{
     "node_id":"txQwjpHKsZ5A95TMxS5WqM",
     "type":"MD",
     "hide_input_from_viewers":true,
     "hide_output_from_viewers":true
    }
   }
  }
 ],
 "metadata":{
  "kernelspec":{
   "display_name":"Python",
   "language":"python",
   "name":"python"
  },
  "datalore":{
   "computation_mode":"JUPYTER",
   "package_manager":"pip",
   "base_environment":"default",
   "packages":[],
   "report_row_ids":[],
   "report_tabs":[],
   "version":4
  }
 },
 "nbformat":4,
 "nbformat_minor":4
}